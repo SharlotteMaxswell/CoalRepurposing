{
 "cells": [
  {
   "cell_type": "markdown",
   "id": "01abbe51",
   "metadata": {},
   "source": [
    "## COAL INFRA MODEL"
   ]
  },
  {
   "cell_type": "code",
   "execution_count": 6,
   "id": "04daf21b",
   "metadata": {},
   "outputs": [
    {
     "name": "stderr",
     "output_type": "stream",
     "text": [
      "\u001b[32m\u001b[1m    Updating\u001b[22m\u001b[39m registry at `C:\\Users\\charl\\.julia\\registries\\General.toml`\n",
      "\u001b[32m\u001b[1m   Resolving\u001b[22m\u001b[39m package versions...\n",
      "\u001b[32m\u001b[1m  No Changes\u001b[22m\u001b[39m to `C:\\Users\\charl\\.julia\\environments\\v1.11\\Project.toml`\n",
      "\u001b[32m\u001b[1m  No Changes\u001b[22m\u001b[39m to `C:\\Users\\charl\\.julia\\environments\\v1.11\\Manifest.toml`\n"
     ]
    }
   ],
   "source": [
    "import Pkg; Pkg.add(\"Plots\")"
   ]
  },
  {
   "cell_type": "code",
   "execution_count": 7,
   "id": "f910e512",
   "metadata": {},
   "outputs": [],
   "source": [
    "using Plots\n",
    "using Pkg\n",
    "using DataFrames, CSV\n",
    "using CSV\n",
    "using JuMP\n",
    "using HiGHS\n",
    "using Statistics"
   ]
  },
  {
   "cell_type": "markdown",
   "id": "c44c26d1",
   "metadata": {},
   "source": [
    "### DATA"
   ]
  },
  {
   "cell_type": "code",
   "execution_count": null,
   "id": "116512d2",
   "metadata": {},
   "outputs": [
    {
     "ename": "UndefVarError",
     "evalue": "UndefVarError: `DataFrame` not defined in `Main`\nSuggestion: check for spelling errors or missing imports.",
     "output_type": "error",
     "traceback": [
      "UndefVarError: `DataFrame` not defined in `Main`\n",
      "Suggestion: check for spelling errors or missing imports.\n",
      "\n",
      "Stacktrace:\n",
      " [1] top-level scope\n",
      "   @ c:\\Users\\charl\\Documents\\Julia\\jl_notebook_cell_df34fa98e69747e1a8f8a730347b8e2f_W5sZmlsZQ==.jl:1"
     ]
    }
   ],
   "source": [
    "generators = DataFrame(CSV.File(\"data/Generators_data.csv\"))\n",
    "generators = select(generators, :R_ID, :Resource, :zone, :THERM, :DISP, :NDISP, :STOR, :HYDRO, :RPS, :CES,\n",
    "                    :Commit, :Existing_Cap_MW, :Existing_Cap_MWh, :Cap_size, :New_Build, :Max_Cap_MW,\n",
    "                    :Inv_cost_per_MWyr, :Fixed_OM_cost_per_MWyr, :Inv_cost_per_MWhyr, :Fixed_OM_cost_per_MWhyr,\n",
    "                    :Var_OM_cost_per_MWh, :Start_cost_per_MW, :Start_fuel_MMBTU_per_MW, :Heat_rate_MMBTU_per_MWh, :Fuel,\n",
    "                    :Min_power, :Ramp_Up_percentage, :Ramp_Dn_percentage, :Up_time, :Down_time,\n",
    "                    :Eff_up, :Eff_down); \n",
    "G = generators.R_ID # set of gens "
   ]
  },
  {
   "cell_type": "code",
   "execution_count": 19,
   "id": "dcf56f3a",
   "metadata": {},
   "outputs": [],
   "source": [
    "demand_inputs = DataFrame(CSV.File(\"data/Load_data.csv\"))\n",
    "VOLL = demand_inputs.Voll[1]\n",
    "S = convert(Array{Int64}, collect(skipmissing(demand_inputs.Demand_segment)))\n",
    "\n",
    "nse = DataFrame(Segment=S, \n",
    "                NSE_Cost = VOLL.*collect(skipmissing(demand_inputs.Cost_of_demand_curtailment_perMW)),\n",
    "                NSE_Max = collect(skipmissing(demand_inputs.Max_demand_curtailment)))\n",
    "\n",
    "hours_per_period = convert(Int64, demand_inputs.Hours_per_period[1])\n",
    "P = convert(Array{Int64}, 1:demand_inputs.Subperiods[1])\n",
    "W = convert(Array{Int64}, collect(skipmissing(demand_inputs.Sub_Weights)))\n",
    "T = convert(Array{Int64}, demand_inputs.Time_index)\n",
    "sample_weight = zeros(Float64, size(T,1))\n",
    "t=1\n",
    "\n",
    "for p in P\n",
    "    for h in 1:hours_per_period\n",
    "        sample_weight[t] = W[p]/hours_per_period\n",
    "        t=t+1\n",
    "    end\n",
    "end\n",
    "\n",
    "Z = convert(Array{Int64}, 1:3)\n",
    "demand = select(demand_inputs, :Load_MW_z1, :Load_MW_z2, :Load_MW_z3);"
   ]
  },
  {
   "cell_type": "code",
   "execution_count": 24,
   "id": "4877c8e7",
   "metadata": {},
   "outputs": [],
   "source": [
    "variability = DataFrame(CSV.File(\"data/Generators_variability.csv\"))\n",
    "variability = variability[:,2:ncol(variability)];\n",
    "fuels = DataFrame(CSV.File(\"data/Fuels_data.csv\"));"
   ]
  },
  {
   "cell_type": "code",
   "execution_count": null,
   "id": "64b5140d",
   "metadata": {},
   "outputs": [],
   "source": [
    "generators.Var_Cost = zeros(Float64, size(G,1))\n",
    "generators.CO2_Rate = zeros(Float64, size(G,1))\n",
    "generators.Start_Cost = zeros(Float64, size(G,1))\n",
    "generators.CO2_Per_Start = zeros(Float64, size(G,1))\n",
    "\n",
    "for g in G\n",
    "    generators.Var_Cost[g] = generators.Var_OM_cost_per_MWh[g] + fuels[fuels.Fuel.==generators.Fuel[g],:Cost_per_MMBtu][1]*generators.Heat_rate_MMBTU_per_MWh[g]\n",
    "    generators.CO2_Rate[g] = fuels[fuels.Fuel.==generators.Fuel[g],:CO2_content_tons_per_MMBtu][1]*generators.Heat_rate_MMBTU_per_MWh[g]\n",
    "    generators.Start_Cost[g] = generators.Start_cost_per_MW[g] + fuels[fuels.Fuel.==generators.Fuel[g],:Cost_per_MMBtu][1]*generators.Start_fuel_MMBTU_per_MW[g]\n",
    "    generators.CO2_Per_Start[g] = fuels[fuels.Fuel.==generators.Fuel[g],:CO2_content_tons_per_MMBtu][1]*generators.Start_fuel_MMBTU_per_MW[g]\n",
    "end"
   ]
  },
  {
   "cell_type": "markdown",
   "id": "10020219",
   "metadata": {},
   "source": [
    "# JULIA Model 1"
   ]
  },
  {
   "cell_type": "markdown",
   "id": "01bb5e8e",
   "metadata": {},
   "source": [
    "### Sets\n",
    "\n",
    "- $Y$: Years  {1, n}\n",
    "- $T$: Time within a year (optional granularity, e.g. hours/seasons)  {1...8760}\n",
    "- *$L$: Locations of coal power plants (Maybe?)*\n",
    "- $G$: Generator technologies  \n",
    "  - Subsets: existing (`EXIST`), new (`NEW`), repurposed (`REPURPOSED`)\n"
   ]
  },
  {
   "cell_type": "markdown",
   "id": "afb63bfb",
   "metadata": {},
   "source": [
    "### Parameters\n",
    "\n",
    "- $DEMAND_{t,y}$ : Demand in year $y$, time $t$  \n",
    "\n",
    "- $INV_g$ : Investment cost for tech $g$ [\\$/MW]  \n",
    "\n",
    "- $FoM_g$ : Fixed O&M [\\$/MW-yr]  \n",
    "\n",
    "- $LIFE_g$ : Lifetime of tech $g$ [years]  \n",
    "\n",
    "- $LEAD_g$ : Lead time before new build becomes available [years]  \n",
    "\n",
    "- $VC_g$ : Variable generation cost [\\$/MWh]  \n",
    "\n",
    "- $CF_{g,t}$ : Capacity factor of tech $g$ at time $t$  \n",
    "\n",
    "- $Fp_g$ : Footprint coefficient of tech $g$ (e.g. land constraint)  \n",
    "\n",
    "- $A_g$ : Area limit (location-specific, e.g. for renewables)  \n",
    "\n",
    "- $PLANT_g$ : Existing capacity [MW]  \n",
    "\n",
    "- $EF_g$ : Emission factor [tCO$_$/MWh]  \n",
    "\n",
    "- $PCO2_y$ : Carbon price in year $y$ [\\$/tCO$_$]  \n",
    "\n",
    "- $VOLL_{t,y}$ : Value of Lost Load [\\$/MWh]  \n",
    "\n",
    "- $r$ : Discount rate\n"
   ]
  },
  {
   "cell_type": "markdown",
   "id": "9ba9111b",
   "metadata": {},
   "source": [
    "### Decision Variables\n",
    "\n",
    "- $use_{t,y} \\geq 0$ : Unserved energy demand at time $t, y$\n",
    "\n",
    "- $gen_{g,t,y} \\geq 0$ : Electricity generation from tech $g$  \n",
    "\n",
    "- $build_{g,y} \\geq 0$ : New build capacity for tech $g$  \n",
    "\n",
    "- $ret_{g,y} \\geq 0$ : Retired capacity for tech $g$  \n",
    "\n",
    "- $cap_{g,y} \\geq 0$ : Total available capacity of tech $g$\n"
   ]
  },
  {
   "cell_type": "markdown",
   "id": "03b57ed7",
   "metadata": {},
   "source": [
    "### Objective Function\n",
    "\n",
    "$$\n",
    "\\min_{g,y,t} \\;\n",
    "\\Bigg[\n",
    "\\sum_{g,y,t} \\frac{1}{(1+r)^y} \\, (VC_g + EF_g \\cdot PCO2_y) \\cdot gen_{g,t,y}\n",
    "+ \\sum_{g,y} \\frac{1}{(1+r)^y} \\, FoM_g \\cdot cap_{g,y}\n",
    "+ \\sum_{g,y} \\frac{1}{(1+r)^y} \\, INV_g \\cdot build_{g,y}\n",
    "+ \\sum_{y,t} \\frac{1}{(1+r)^y} \\, VOLL_{t,y} \\cdot use_{t,y}\n",
    "\\Bigg]\n",
    "$$\n"
   ]
  },
  {
   "cell_type": "markdown",
   "id": "a97182d8",
   "metadata": {},
   "source": [
    "### Constraints\n",
    "\n",
    "**Demand balance (with demand-side flexibility)**  \n",
    "$$\n",
    "\\sum_g gen_{g,t,y} + use_{t,y} = DEMAND_{t,y}, \\quad \\forall t,y\n",
    "$$\n",
    "\n",
    "**Generation limited by capacity & capacity factor**  \n",
    "$$\n",
    "gen_{g,t,y} \\leq cap_{g,y} \\cdot CF_{g,t}, \\quad \\forall g,t,y\n",
    "$$\n",
    "\n",
    "**Initial capacity**  \n",
    "$$\n",
    "cap_{g,1} = PLANT_g, \\quad \\forall g\n",
    "$$\n",
    "\n",
    "**Capacity evolution (with lead time and retirement)**  \n",
    "$$\n",
    "cap_{g,y} =\n",
    "\\begin{cases}\n",
    "PLANT_g, & y = 1 \\\\[6pt]\n",
    "cap_{g,y-1} - ret_{g,y}, & 2 \\leq y \\leq LEAD_g \\\\[6pt]\n",
    "cap_{g,y-1} + build_{g,y-LEAD_g} - ret_{g,y}, & y > LEAD_g\n",
    "\\end{cases}\n",
    "$$\n",
    "\n",
    "**Lifetime constraint**  # Remove don't need to retire in the horizon \n",
    "$$\n",
    "ret_{g,y} \\geq build_{g,y-LIFE_g}, \\quad \\forall g,y\n",
    "$$\n",
    "\n",
    "**Land/footprint constraint**  ## next step\n",
    "$$\n",
    "\\sum_g Fp_g \\cdot build_{g,y} \\leq A_g, \\quad \\forall y\n",
    "$$\n",
    "\n"
   ]
  },
  {
   "cell_type": "markdown",
   "id": "48375c07",
   "metadata": {},
   "source": [
    "### Julia JuMP implementation \n"
   ]
  },
  {
   "cell_type": "code",
   "execution_count": 25,
   "id": "b7e627a4",
   "metadata": {},
   "outputs": [
    {
     "data": {
      "text/plain": [
       "5-element Vector{Symbol}:\n",
       " :coal\n",
       " :gas\n",
       " :solar\n",
       " :wind\n",
       " :biomass"
      ]
     },
     "metadata": {},
     "output_type": "display_data"
    }
   ],
   "source": [
    "#sets\n",
    "y0 = 0\n",
    "Y  = y0:25 # years\n",
    "T  = 1:8760                         \n",
    "G  = [:coal, :gas, :solar, :wind, :biomass]"
   ]
  },
  {
   "cell_type": "code",
   "execution_count": 29,
   "id": "d43bbd3f",
   "metadata": {},
   "outputs": [
    {
     "data": {
      "text/plain": [
       "Dict{Symbol, Int64} with 5 entries:\n",
       "  :wind    => 1\n",
       "  :coal    => 5\n",
       "  :gas     => 3\n",
       "  :solar   => 1\n",
       "  :biomass => 2"
      ]
     },
     "metadata": {},
     "output_type": "display_data"
    }
   ],
   "source": [
    "#parameters (Made Up - Change)\n",
    "\n",
    "r = Dict(\n",
    "    :coal    => 0.04,   \n",
    "    :biomass => 0.048,\n",
    "    :solar   => 0.038,\n",
    "    :wind    => 0.03,\n",
    "    :gas     => 0.035\n",
    ")\n",
    "\n",
    "# Demand (MWh) per slice/year\n",
    "Demand_Data = CSV.read(\"data/demand_25yrs_forecast.csv\", DataFrame)\n",
    "DEMAND = Dict((row.Year ,row.Hour) => row.Demand for row in eachrow(Demand_Data))\n",
    "\n",
    "# Existing capacity (MW) in base year\n",
    "PLANT = Dict(:coal=>4000.0, :gas=>2000.0, :solar=>800.0, :wind=>1200.0, :biomass=>0.0)\n",
    "\n",
    "# Costs\n",
    "INV = Dict(\n",
    "    :coal    => 999_999_999.0,   # placeholder\n",
    "    :gas     => 1_000_000.0,   # CCGT greenfield\n",
    "    :biomass => 5_391_000.0,   # Biomass greenfield\n",
    "    :solar   =>   750_000.0,\n",
    "    :wind    => 1_000_000.0\n",
    ") # $/MW\n",
    "\n",
    "FoM = Dict(\n",
    "    :coal    => 120_000.0,\n",
    "    :gas     => 28_000.0,    # CCGT\n",
    "    :biomass => 157_000.0,   # biomass greenfield\n",
    "    :solar   => 15_000.0,\n",
    "    :wind    => 40_000.0\n",
    ") # $/MW-yr\n",
    "\n",
    "VC = Dict(\n",
    "    :coal    => 24.2,\n",
    "    :gas     => 27.6,     # CCGT\n",
    "    :biomass => 76.0,     # 5 VOM + 71 fuel\n",
    "    :solar   => 0.0,\n",
    "    :wind    => 0.0\n",
    ") # $/MWh\n",
    "EF = Dict(\n",
    "    :coal    => 0.774,\n",
    "    :biomass => 1.502,   # or 0.0 if carbon-neutral assumption\n",
    "    :gas     => 0.340,\n",
    "    :solar   => 0.0,\n",
    "    :wind    => 0.0\n",
    ")# tCO₂/MWh\n",
    "\n",
    "# Carbon price path\n",
    "PCO2 = Dict(y => 90.44 for y in Y)                                                       # $/tCO₂\n",
    "\n",
    "# Value of lost load\n",
    "VOLL = Dict((y,t) => 10_000.0 for y in Y, t in T)                                        # $/MWh\n",
    "\n",
    "# Capacity factors\n",
    "CF_Data = CSV.read(\"data/CFData_Expanded.csv\", DataFrame)\n",
    "\n",
    "CF = Dict()\n",
    "for row in eachrow(CF_Data)\n",
    "    h = row.Hour\n",
    "    CF[(:coal, h)]    = row.Coal\n",
    "    CF[(:gas, h)]     = row.Gas\n",
    "    CF[(:biomass, h)] = row.Biomass\n",
    "    CF[(:wind, h)]    = row.Wind\n",
    "    CF[(:solar, h)]   = row.Solar\n",
    "end\n",
    "\n",
    "# Lifetime and lead time (years)\n",
    "LIFE = Dict(:coal=>30, :gas=>30, :solar=>30, :wind=>30, :biomass=>30) \n",
    "LEAD = Dict(:coal=>5,  :gas=>3,  :solar=>1,  :wind=>1,  :biomass=>2)\n"
   ]
  },
  {
   "cell_type": "code",
   "execution_count": 30,
   "id": "7336a612",
   "metadata": {},
   "outputs": [
    {
     "data": {
      "text/plain": [
       "2-dimensional DenseAxisArray{VariableRef,2,...} with index sets:\n",
       "    Dimension 1, 1:8760\n",
       "    Dimension 2, 0:25\n",
       "And data, a 8760×26 Matrix{VariableRef}:\n",
       " use[1,0]     use[1,1]     use[1,2]     …  use[1,24]     use[1,25]\n",
       " use[2,0]     use[2,1]     use[2,2]        use[2,24]     use[2,25]\n",
       " use[3,0]     use[3,1]     use[3,2]        use[3,24]     use[3,25]\n",
       " use[4,0]     use[4,1]     use[4,2]        use[4,24]     use[4,25]\n",
       " use[5,0]     use[5,1]     use[5,2]        use[5,24]     use[5,25]\n",
       " use[6,0]     use[6,1]     use[6,2]     …  use[6,24]     use[6,25]\n",
       " use[7,0]     use[7,1]     use[7,2]        use[7,24]     use[7,25]\n",
       " use[8,0]     use[8,1]     use[8,2]        use[8,24]     use[8,25]\n",
       " use[9,0]     use[9,1]     use[9,2]        use[9,24]     use[9,25]\n",
       " use[10,0]    use[10,1]    use[10,2]       use[10,24]    use[10,25]\n",
       " ⋮                                      ⋱                ⋮\n",
       " use[8752,0]  use[8752,1]  use[8752,2]     use[8752,24]  use[8752,25]\n",
       " use[8753,0]  use[8753,1]  use[8753,2]     use[8753,24]  use[8753,25]\n",
       " use[8754,0]  use[8754,1]  use[8754,2]     use[8754,24]  use[8754,25]\n",
       " use[8755,0]  use[8755,1]  use[8755,2]     use[8755,24]  use[8755,25]\n",
       " use[8756,0]  use[8756,1]  use[8756,2]  …  use[8756,24]  use[8756,25]\n",
       " use[8757,0]  use[8757,1]  use[8757,2]     use[8757,24]  use[8757,25]\n",
       " use[8758,0]  use[8758,1]  use[8758,2]     use[8758,24]  use[8758,25]\n",
       " use[8759,0]  use[8759,1]  use[8759,2]     use[8759,24]  use[8759,25]\n",
       " use[8760,0]  use[8760,1]  use[8760,2]     use[8760,24]  use[8760,25]"
      ]
     },
     "metadata": {},
     "output_type": "display_data"
    }
   ],
   "source": [
    "model = Model(HiGHS.Optimizer)\n",
    "\n",
    "@variable(model, gen[g in G, t in T, y in Y] >= 0)    # generation [MWh]\n",
    "@variable(model, cap[g in G, y in Y] >= 0)            # available capacity [MW]\n",
    "@variable(model, build[g in G, y in Y] >= 0)          # new builds [MW]\n",
    "@variable(model, retire[g in G, y in Y] >= 0)         # retirements [MW]\n",
    "@variable(model, use[t in T, y in Y] >= 0)           # unserved load [MWh]"
   ]
  },
  {
   "cell_type": "code",
   "execution_count": null,
   "id": "aede3ea1",
   "metadata": {},
   "outputs": [
    {
     "data": {
      "text/latex": [
       "$ 94.20056 gen_{coal,1,0} + 90.57746153846153 gen_{coal,1,1} + 87.09371301775147 gen_{coal,1,2} + 83.74395482476103 gen_{coal,1,3} + 80.52303348534713 gen_{coal,1,4} + 77.42599373591071 gen_{coal,1,5} + 74.44807089991413 gen_{coal,1,6} + 71.58468355760975 gen_{coal,1,7} + 68.83142649770168 gen_{coal,1,8} + 66.18406394009776 gen_{coal,1,9} + 63.63852301932477 gen_{coal,1,10} + 61.190887518581505 gen_{coal,1,11} + 58.837391844789906 gen_{coal,1,12} + 56.57441523537491 gen_{coal,1,13} + 54.39847618786049 gen_{coal,1,14} + 52.30622710371201 gen_{coal,1,15} + 50.294449138184625 gen_{coal,1,16} + 48.36004724825444 gen_{coal,1,17} + 46.50004543101388 gen_{coal,1,18} + 44.711582145205654 gen_{coal,1,19} + 42.99190590885159 gen_{coal,1,20} + 41.33837106620345 gen_{coal,1,21} + 39.74843371750332 gen_{coal,1,22} + 38.21964780529165 gen_{coal,1,23} + 36.74966135124197 gen_{coal,1,24} + 35.33621283773267 gen_{coal,1,25} + 94.20056 gen_{coal,2,0} + 90.57746153846153 gen_{coal,2,1} + 87.09371301775147 gen_{coal,2,2} + 83.74395482476103 gen_{coal,2,3} + [[\\ldots\\text{911240 terms omitted}\\ldots]] + 3418.4987108662162 use_{8759,22} + 3255.713057967825 use_{8759,23} + 3100.6791028265 use_{8759,24} + 2953.0277169776186 use_{8759,25} + 10000 use_{8760,0} + 9523.809523809523 use_{8760,1} + 9070.2947845805 use_{8760,2} + 8638.37598531476 use_{8760,3} + 8227.024747918818 use_{8760,4} + 7835.261664684588 use_{8760,5} + 7462.153966366274 use_{8760,6} + 7106.813301301213 use_{8760,7} + 6768.39362028687 use_{8760,8} + 6446.089162177971 use_{8760,9} + 6139.132535407592 use_{8760,10} + 5846.792890864373 use_{8760,11} + 5568.374181775593 use_{8760,12} + 5303.213506452945 use_{8760,13} + 5050.679529955185 use_{8760,14} + 4810.1709809097 use_{8760,15} + 4581.115219914001 use_{8760,16} + 4362.966876108571 use_{8760,17} + 4155.20654867483 use_{8760,18} + 3957.339570166504 use_{8760,19} + 3768.894828730004 use_{8760,20} + 3589.4236464095275 use_{8760,21} + 3418.4987108662162 use_{8760,22} + 3255.713057967825 use_{8760,23} + 3100.6791028265 use_{8760,24} + 2953.0277169776186 use_{8760,25} $"
      ],
      "text/plain": [
       "94.20056 gen[coal,1,0] + 90.57746153846153 gen[coal,1,1] + 87.09371301775147 gen[coal,1,2] + 83.74395482476103 gen[coal,1,3] + 80.52303348534713 gen[coal,1,4] + 77.42599373591071 gen[coal,1,5] + 74.44807089991413 gen[coal,1,6] + 71.58468355760975 gen[coal,1,7] + 68.83142649770168 gen[coal,1,8] + 66.18406394009776 gen[coal,1,9] + 63.63852301932477 gen[coal,1,10] + 61.190887518581505 gen[coal,1,11] + 58.837391844789906 gen[coal,1,12] + 56.57441523537491 gen[coal,1,13] + 54.39847618786049 gen[coal,1,14] + 52.30622710371201 gen[coal,1,15] + 50.294449138184625 gen[coal,1,16] + 48.36004724825444 gen[coal,1,17] + 46.50004543101388 gen[coal,1,18] + 44.711582145205654 gen[coal,1,19] + 42.99190590885159 gen[coal,1,20] + 41.33837106620345 gen[coal,1,21] + 39.74843371750332 gen[coal,1,22] + 38.21964780529165 gen[coal,1,23] + 36.74966135124197 gen[coal,1,24] + 35.33621283773267 gen[coal,1,25] + 94.20056 gen[coal,2,0] + 90.57746153846153 gen[coal,2,1] + 87.09371301775147 gen[coal,2,2] + 83.74395482476103 gen[coal,2,3] + [[...911240 terms omitted...]] + 3418.4987108662162 use[8759,22] + 3255.713057967825 use[8759,23] + 3100.6791028265 use[8759,24] + 2953.0277169776186 use[8759,25] + 10000 use[8760,0] + 9523.809523809523 use[8760,1] + 9070.2947845805 use[8760,2] + 8638.37598531476 use[8760,3] + 8227.024747918818 use[8760,4] + 7835.261664684588 use[8760,5] + 7462.153966366274 use[8760,6] + 7106.813301301213 use[8760,7] + 6768.39362028687 use[8760,8] + 6446.089162177971 use[8760,9] + 6139.132535407592 use[8760,10] + 5846.792890864373 use[8760,11] + 5568.374181775593 use[8760,12] + 5303.213506452945 use[8760,13] + 5050.679529955185 use[8760,14] + 4810.1709809097 use[8760,15] + 4581.115219914001 use[8760,16] + 4362.966876108571 use[8760,17] + 4155.20654867483 use[8760,18] + 3957.339570166504 use[8760,19] + 3768.894828730004 use[8760,20] + 3589.4236464095275 use[8760,21] + 3418.4987108662162 use[8760,22] + 3255.713057967825 use[8760,23] + 3100.6791028265 use[8760,24] + 2953.0277169776186 use[8760,25]"
      ]
     },
     "metadata": {},
     "output_type": "display_data"
    }
   ],
   "source": [
    "@objective(model, Min,\n",
    "    # Variable generation cost + carbon\n",
    "    sum((VC[g] + EF[g]*PCO2[y]) * gen[g,t,y] / (1+r[g])^(y-y0) for g in G, t in T, y in Y) +\n",
    "    # Fixed O&M\n",
    "    sum(FoM[g] * cap[g,y] / (1+r[g])^(y-y0) for g in G, y in Y) +\n",
    "    # Investment\n",
    "    sum(INV[g] * build[g,y] / (1+r[g])^(y-y0) for g in G, y in Y) +\n",
    "    # Unserved demand (VOLL penalty)\n",
    "    sum(VOLL[(y,t)] * use[t,y] / (1+0.05)^(y-y0) for t in T, y in Y) # set r to 0.05 here\n",
    ")"
   ]
  },
  {
   "cell_type": "code",
   "execution_count": 32,
   "id": "2c33f125",
   "metadata": {},
   "outputs": [],
   "source": [
    "# Demand balance\n",
    "@constraint(model, [y in Y, t in T],\n",
    "    sum(gen[g,t,y] for g in G) + use[t,y] == DEMAND[(y,t)]\n",
    ")\n",
    "\n",
    "# Generation limited by capacity × CF\n",
    "@constraint(model, [g in G, y in Y, t in T],\n",
    "    gen[g,t,y] <= cap[g,y] * CF[(g,t)]\n",
    ")\n",
    "\n",
    "# Initial capacity\n",
    "@constraint(model, [g in G],\n",
    "    cap[g,y0] == PLANT[g]\n",
    ")\n",
    "\n",
    "# Capacity dynamics (with lead times)\n",
    "for g in G, (i,y) in enumerate(Y)\n",
    "    if y > y0\n",
    "        if y - y0 >= LEAD[g]\n",
    "            @constraint(model, cap[g,y] == cap[g,y-1] + build[g,y-LEAD[g]] - retire[g,y])\n",
    "        else\n",
    "            @constraint(model, cap[g,y] == cap[g,y-1] - retire[g,y])\n",
    "        end\n",
    "    end\n",
    "end\n",
    "\n",
    "# Lifetime constraint\n",
    "for g in G, y in Y\n",
    "    if y - y0 >= LIFE[g]\n",
    "        @constraint(model, retire[g,y] >= build[g,y-LIFE[g]])\n",
    "    end\n",
    "end\n"
   ]
  },
  {
   "cell_type": "code",
   "execution_count": null,
   "id": "3b1b8a95",
   "metadata": {},
   "outputs": [],
   "source": [
    "optimize!(model)\n",
    "\n",
    "println(\"Objective value: \", objective_value(model))"
   ]
  },
  {
   "cell_type": "code",
   "execution_count": 17,
   "id": "6052fc13",
   "metadata": {},
   "outputs": [
    {
     "data": {
      "text/html": [
       "<div><div style = \"float: left;\"><span>255×3 DataFrame</span></div><div style = \"float: right;\"><span style = \"font-style: italic;\">230 rows omitted</span></div><div style = \"clear: both;\"></div></div><div class = \"data-frame\" style = \"overflow-x: scroll;\"><table class = \"data-frame\" style = \"margin-bottom: 6px;\"><thead><tr class = \"header\"><th class = \"rowNumber\" style = \"font-weight: bold; text-align: right;\">Row</th><th style = \"text-align: left;\">tech</th><th style = \"text-align: left;\">year</th><th style = \"text-align: left;\">MW</th></tr><tr class = \"subheader headerLastRow\"><th class = \"rowNumber\" style = \"font-weight: bold; text-align: right;\"></th><th title = \"Symbol\" style = \"text-align: left;\">Symbol</th><th title = \"Int64\" style = \"text-align: left;\">Int64</th><th title = \"Float64\" style = \"text-align: left;\">Float64</th></tr></thead><tbody><tr><td class = \"rowNumber\" style = \"font-weight: bold; text-align: right;\">1</td><td style = \"text-align: left;\">coal</td><td style = \"text-align: right;\">0</td><td style = \"text-align: right;\">0.0</td></tr><tr><td class = \"rowNumber\" style = \"font-weight: bold; text-align: right;\">2</td><td style = \"text-align: left;\">coal</td><td style = \"text-align: right;\">0</td><td style = \"text-align: right;\">0.0</td></tr><tr><td class = \"rowNumber\" style = \"font-weight: bold; text-align: right;\">3</td><td style = \"text-align: left;\">coal</td><td style = \"text-align: right;\">0</td><td style = \"text-align: right;\">0.0</td></tr><tr><td class = \"rowNumber\" style = \"font-weight: bold; text-align: right;\">4</td><td style = \"text-align: left;\">coal</td><td style = \"text-align: right;\">0</td><td style = \"text-align: right;\">0.0</td></tr><tr><td class = \"rowNumber\" style = \"font-weight: bold; text-align: right;\">5</td><td style = \"text-align: left;\">coal</td><td style = \"text-align: right;\">0</td><td style = \"text-align: right;\">0.0</td></tr><tr><td class = \"rowNumber\" style = \"font-weight: bold; text-align: right;\">6</td><td style = \"text-align: left;\">coal</td><td style = \"text-align: right;\">1</td><td style = \"text-align: right;\">0.0</td></tr><tr><td class = \"rowNumber\" style = \"font-weight: bold; text-align: right;\">7</td><td style = \"text-align: left;\">coal</td><td style = \"text-align: right;\">1</td><td style = \"text-align: right;\">0.0</td></tr><tr><td class = \"rowNumber\" style = \"font-weight: bold; text-align: right;\">8</td><td style = \"text-align: left;\">coal</td><td style = \"text-align: right;\">1</td><td style = \"text-align: right;\">0.0</td></tr><tr><td class = \"rowNumber\" style = \"font-weight: bold; text-align: right;\">9</td><td style = \"text-align: left;\">coal</td><td style = \"text-align: right;\">1</td><td style = \"text-align: right;\">0.0</td></tr><tr><td class = \"rowNumber\" style = \"font-weight: bold; text-align: right;\">10</td><td style = \"text-align: left;\">coal</td><td style = \"text-align: right;\">1</td><td style = \"text-align: right;\">0.0</td></tr><tr><td class = \"rowNumber\" style = \"font-weight: bold; text-align: right;\">11</td><td style = \"text-align: left;\">coal</td><td style = \"text-align: right;\">2</td><td style = \"text-align: right;\">4000.0</td></tr><tr><td class = \"rowNumber\" style = \"font-weight: bold; text-align: right;\">12</td><td style = \"text-align: left;\">coal</td><td style = \"text-align: right;\">2</td><td style = \"text-align: right;\">2000.0</td></tr><tr><td class = \"rowNumber\" style = \"font-weight: bold; text-align: right;\">13</td><td style = \"text-align: left;\">coal</td><td style = \"text-align: right;\">2</td><td style = \"text-align: right;\">0.0</td></tr><tr><td style = \"text-align: right;\">&vellip;</td><td style = \"text-align: right;\">&vellip;</td><td style = \"text-align: right;\">&vellip;</td><td style = \"text-align: right;\">&vellip;</td></tr><tr><td class = \"rowNumber\" style = \"font-weight: bold; text-align: right;\">244</td><td style = \"text-align: left;\">biomass</td><td style = \"text-align: right;\">48</td><td style = \"text-align: right;\">-0.0</td></tr><tr><td class = \"rowNumber\" style = \"font-weight: bold; text-align: right;\">245</td><td style = \"text-align: left;\">biomass</td><td style = \"text-align: right;\">48</td><td style = \"text-align: right;\">-0.0</td></tr><tr><td class = \"rowNumber\" style = \"font-weight: bold; text-align: right;\">246</td><td style = \"text-align: left;\">biomass</td><td style = \"text-align: right;\">49</td><td style = \"text-align: right;\">-0.0</td></tr><tr><td class = \"rowNumber\" style = \"font-weight: bold; text-align: right;\">247</td><td style = \"text-align: left;\">biomass</td><td style = \"text-align: right;\">49</td><td style = \"text-align: right;\">-0.0</td></tr><tr><td class = \"rowNumber\" style = \"font-weight: bold; text-align: right;\">248</td><td style = \"text-align: left;\">biomass</td><td style = \"text-align: right;\">49</td><td style = \"text-align: right;\">-0.0</td></tr><tr><td class = \"rowNumber\" style = \"font-weight: bold; text-align: right;\">249</td><td style = \"text-align: left;\">biomass</td><td style = \"text-align: right;\">49</td><td style = \"text-align: right;\">-0.0</td></tr><tr><td class = \"rowNumber\" style = \"font-weight: bold; text-align: right;\">250</td><td style = \"text-align: left;\">biomass</td><td style = \"text-align: right;\">49</td><td style = \"text-align: right;\">-0.0</td></tr><tr><td class = \"rowNumber\" style = \"font-weight: bold; text-align: right;\">251</td><td style = \"text-align: left;\">biomass</td><td style = \"text-align: right;\">50</td><td style = \"text-align: right;\">-0.0</td></tr><tr><td class = \"rowNumber\" style = \"font-weight: bold; text-align: right;\">252</td><td style = \"text-align: left;\">biomass</td><td style = \"text-align: right;\">50</td><td style = \"text-align: right;\">-0.0</td></tr><tr><td class = \"rowNumber\" style = \"font-weight: bold; text-align: right;\">253</td><td style = \"text-align: left;\">biomass</td><td style = \"text-align: right;\">50</td><td style = \"text-align: right;\">-0.0</td></tr><tr><td class = \"rowNumber\" style = \"font-weight: bold; text-align: right;\">254</td><td style = \"text-align: left;\">biomass</td><td style = \"text-align: right;\">50</td><td style = \"text-align: right;\">-0.0</td></tr><tr><td class = \"rowNumber\" style = \"font-weight: bold; text-align: right;\">255</td><td style = \"text-align: left;\">biomass</td><td style = \"text-align: right;\">50</td><td style = \"text-align: right;\">-0.0</td></tr></tbody></table></div>"
      ],
      "text/latex": [
       "\\begin{tabular}{r|ccc}\n",
       "\t& tech & year & MW\\\\\n",
       "\t\\hline\n",
       "\t& Symbol & Int64 & Float64\\\\\n",
       "\t\\hline\n",
       "\t1 & coal & 0 & 0.0 \\\\\n",
       "\t2 & coal & 0 & 0.0 \\\\\n",
       "\t3 & coal & 0 & 0.0 \\\\\n",
       "\t4 & coal & 0 & 0.0 \\\\\n",
       "\t5 & coal & 0 & 0.0 \\\\\n",
       "\t6 & coal & 1 & 0.0 \\\\\n",
       "\t7 & coal & 1 & 0.0 \\\\\n",
       "\t8 & coal & 1 & 0.0 \\\\\n",
       "\t9 & coal & 1 & 0.0 \\\\\n",
       "\t10 & coal & 1 & 0.0 \\\\\n",
       "\t11 & coal & 2 & 4000.0 \\\\\n",
       "\t12 & coal & 2 & 2000.0 \\\\\n",
       "\t13 & coal & 2 & 0.0 \\\\\n",
       "\t14 & coal & 2 & 0.0 \\\\\n",
       "\t15 & coal & 2 & 0.0 \\\\\n",
       "\t16 & coal & 3 & 0.0 \\\\\n",
       "\t17 & coal & 3 & -0.0 \\\\\n",
       "\t18 & coal & 3 & 0.0 \\\\\n",
       "\t19 & coal & 3 & 0.0 \\\\\n",
       "\t20 & coal & 3 & 0.0 \\\\\n",
       "\t21 & coal & 4 & 0.0 \\\\\n",
       "\t22 & coal & 4 & -0.0 \\\\\n",
       "\t23 & coal & 4 & 0.0 \\\\\n",
       "\t24 & coal & 4 & 0.0 \\\\\n",
       "\t$\\dots$ & $\\dots$ & $\\dots$ & $\\dots$ \\\\\n",
       "\\end{tabular}\n"
      ],
      "text/plain": [
       "\u001b[1m255×3 DataFrame\u001b[0m\n",
       "\u001b[1m Row \u001b[0m│\u001b[1m tech    \u001b[0m\u001b[1m year  \u001b[0m\u001b[1m MW      \u001b[0m\n",
       "     │\u001b[90m Symbol  \u001b[0m\u001b[90m Int64 \u001b[0m\u001b[90m Float64 \u001b[0m\n",
       "─────┼─────────────────────────\n",
       "   1 │ coal         0      0.0\n",
       "   2 │ coal         0      0.0\n",
       "   3 │ coal         0      0.0\n",
       "   4 │ coal         0      0.0\n",
       "   5 │ coal         0      0.0\n",
       "   6 │ coal         1      0.0\n",
       "   7 │ coal         1      0.0\n",
       "   8 │ coal         1      0.0\n",
       "  ⋮  │    ⋮       ⋮       ⋮\n",
       " 249 │ biomass     49     -0.0\n",
       " 250 │ biomass     49     -0.0\n",
       " 251 │ biomass     50     -0.0\n",
       " 252 │ biomass     50     -0.0\n",
       " 253 │ biomass     50     -0.0\n",
       " 254 │ biomass     50     -0.0\n",
       " 255 │ biomass     50     -0.0\n",
       "\u001b[36m               240 rows omitted\u001b[0m"
      ]
     },
     "metadata": {},
     "output_type": "display_data"
    }
   ],
   "source": [
    "cap_df = DataFrame(\n",
    "    tech = repeat(G, inner=length(Y)),\n",
    "    year = vcat([fill(y, length(G)) for y in Y]...),\n",
    "    MW   = [value(cap[g,y]) for y in Y for g in G]\n",
    ")\n",
    "\n",
    "build_df = DataFrame(\n",
    "    tech = repeat(G, inner=length(Y)),\n",
    "    year = vcat([fill(y, length(G)) for y in Y]...),\n",
    "    MW   = [value(build[g,y]) for y in Y for g in G]\n",
    ")\n",
    "\n",
    "retire_df = DataFrame(\n",
    "    tech = repeat(G, inner=length(Y)),\n",
    "    year = vcat([fill(y, length(G)) for y in Y]...),\n",
    "    MW   = [value(retire[g,y]) for y in Y for g in G]\n",
    ")\n"
   ]
  },
  {
   "cell_type": "code",
   "execution_count": 18,
   "id": "ba524e9f",
   "metadata": {},
   "outputs": [
    {
     "data": {
      "text/html": [
       "<div><div style = \"float: left;\"><span>255×3 DataFrame</span></div><div style = \"float: right;\"><span style = \"font-style: italic;\">230 rows omitted</span></div><div style = \"clear: both;\"></div></div><div class = \"data-frame\" style = \"overflow-x: scroll;\"><table class = \"data-frame\" style = \"margin-bottom: 6px;\"><thead><tr class = \"header\"><th class = \"rowNumber\" style = \"font-weight: bold; text-align: right;\">Row</th><th style = \"text-align: left;\">tech</th><th style = \"text-align: left;\">year</th><th style = \"text-align: left;\">MW</th></tr><tr class = \"subheader headerLastRow\"><th class = \"rowNumber\" style = \"font-weight: bold; text-align: right;\"></th><th title = \"Symbol\" style = \"text-align: left;\">Symbol</th><th title = \"Int64\" style = \"text-align: left;\">Int64</th><th title = \"Float64\" style = \"text-align: left;\">Float64</th></tr></thead><tbody><tr><td class = \"rowNumber\" style = \"font-weight: bold; text-align: right;\">1</td><td style = \"text-align: left;\">coal</td><td style = \"text-align: right;\">0</td><td style = \"text-align: right;\">4000.0</td></tr><tr><td class = \"rowNumber\" style = \"font-weight: bold; text-align: right;\">2</td><td style = \"text-align: left;\">coal</td><td style = \"text-align: right;\">0</td><td style = \"text-align: right;\">2000.0</td></tr><tr><td class = \"rowNumber\" style = \"font-weight: bold; text-align: right;\">3</td><td style = \"text-align: left;\">coal</td><td style = \"text-align: right;\">0</td><td style = \"text-align: right;\">800.0</td></tr><tr><td class = \"rowNumber\" style = \"font-weight: bold; text-align: right;\">4</td><td style = \"text-align: left;\">coal</td><td style = \"text-align: right;\">0</td><td style = \"text-align: right;\">1200.0</td></tr><tr><td class = \"rowNumber\" style = \"font-weight: bold; text-align: right;\">5</td><td style = \"text-align: left;\">coal</td><td style = \"text-align: right;\">0</td><td style = \"text-align: right;\">-0.0</td></tr><tr><td class = \"rowNumber\" style = \"font-weight: bold; text-align: right;\">6</td><td style = \"text-align: left;\">coal</td><td style = \"text-align: right;\">1</td><td style = \"text-align: right;\">4000.0</td></tr><tr><td class = \"rowNumber\" style = \"font-weight: bold; text-align: right;\">7</td><td style = \"text-align: left;\">coal</td><td style = \"text-align: right;\">1</td><td style = \"text-align: right;\">2000.0</td></tr><tr><td class = \"rowNumber\" style = \"font-weight: bold; text-align: right;\">8</td><td style = \"text-align: left;\">coal</td><td style = \"text-align: right;\">1</td><td style = \"text-align: right;\">44845.6</td></tr><tr><td class = \"rowNumber\" style = \"font-weight: bold; text-align: right;\">9</td><td style = \"text-align: left;\">coal</td><td style = \"text-align: right;\">1</td><td style = \"text-align: right;\">9.85211e5</td></tr><tr><td class = \"rowNumber\" style = \"font-weight: bold; text-align: right;\">10</td><td style = \"text-align: left;\">coal</td><td style = \"text-align: right;\">1</td><td style = \"text-align: right;\">-0.0</td></tr><tr><td class = \"rowNumber\" style = \"font-weight: bold; text-align: right;\">11</td><td style = \"text-align: left;\">coal</td><td style = \"text-align: right;\">2</td><td style = \"text-align: right;\">0.0</td></tr><tr><td class = \"rowNumber\" style = \"font-weight: bold; text-align: right;\">12</td><td style = \"text-align: left;\">coal</td><td style = \"text-align: right;\">2</td><td style = \"text-align: right;\">-0.0</td></tr><tr><td class = \"rowNumber\" style = \"font-weight: bold; text-align: right;\">13</td><td style = \"text-align: left;\">coal</td><td style = \"text-align: right;\">2</td><td style = \"text-align: right;\">44845.6</td></tr><tr><td style = \"text-align: right;\">&vellip;</td><td style = \"text-align: right;\">&vellip;</td><td style = \"text-align: right;\">&vellip;</td><td style = \"text-align: right;\">&vellip;</td></tr><tr><td class = \"rowNumber\" style = \"font-weight: bold; text-align: right;\">244</td><td style = \"text-align: left;\">biomass</td><td style = \"text-align: right;\">48</td><td style = \"text-align: right;\">4.46759e5</td></tr><tr><td class = \"rowNumber\" style = \"font-weight: bold; text-align: right;\">245</td><td style = \"text-align: left;\">biomass</td><td style = \"text-align: right;\">48</td><td style = \"text-align: right;\">10000.0</td></tr><tr><td class = \"rowNumber\" style = \"font-weight: bold; text-align: right;\">246</td><td style = \"text-align: left;\">biomass</td><td style = \"text-align: right;\">49</td><td style = \"text-align: right;\">0.0</td></tr><tr><td class = \"rowNumber\" style = \"font-weight: bold; text-align: right;\">247</td><td style = \"text-align: left;\">biomass</td><td style = \"text-align: right;\">49</td><td style = \"text-align: right;\">0.0</td></tr><tr><td class = \"rowNumber\" style = \"font-weight: bold; text-align: right;\">248</td><td style = \"text-align: left;\">biomass</td><td style = \"text-align: right;\">49</td><td style = \"text-align: right;\">45692.0</td></tr><tr><td class = \"rowNumber\" style = \"font-weight: bold; text-align: right;\">249</td><td style = \"text-align: left;\">biomass</td><td style = \"text-align: right;\">49</td><td style = \"text-align: right;\">4.46759e5</td></tr><tr><td class = \"rowNumber\" style = \"font-weight: bold; text-align: right;\">250</td><td style = \"text-align: left;\">biomass</td><td style = \"text-align: right;\">49</td><td style = \"text-align: right;\">10000.0</td></tr><tr><td class = \"rowNumber\" style = \"font-weight: bold; text-align: right;\">251</td><td style = \"text-align: left;\">biomass</td><td style = \"text-align: right;\">50</td><td style = \"text-align: right;\">0.0</td></tr><tr><td class = \"rowNumber\" style = \"font-weight: bold; text-align: right;\">252</td><td style = \"text-align: left;\">biomass</td><td style = \"text-align: right;\">50</td><td style = \"text-align: right;\">0.0</td></tr><tr><td class = \"rowNumber\" style = \"font-weight: bold; text-align: right;\">253</td><td style = \"text-align: left;\">biomass</td><td style = \"text-align: right;\">50</td><td style = \"text-align: right;\">45692.0</td></tr><tr><td class = \"rowNumber\" style = \"font-weight: bold; text-align: right;\">254</td><td style = \"text-align: left;\">biomass</td><td style = \"text-align: right;\">50</td><td style = \"text-align: right;\">4.46759e5</td></tr><tr><td class = \"rowNumber\" style = \"font-weight: bold; text-align: right;\">255</td><td style = \"text-align: left;\">biomass</td><td style = \"text-align: right;\">50</td><td style = \"text-align: right;\">10000.0</td></tr></tbody></table></div>"
      ],
      "text/latex": [
       "\\begin{tabular}{r|ccc}\n",
       "\t& tech & year & MW\\\\\n",
       "\t\\hline\n",
       "\t& Symbol & Int64 & Float64\\\\\n",
       "\t\\hline\n",
       "\t1 & coal & 0 & 4000.0 \\\\\n",
       "\t2 & coal & 0 & 2000.0 \\\\\n",
       "\t3 & coal & 0 & 800.0 \\\\\n",
       "\t4 & coal & 0 & 1200.0 \\\\\n",
       "\t5 & coal & 0 & -0.0 \\\\\n",
       "\t6 & coal & 1 & 4000.0 \\\\\n",
       "\t7 & coal & 1 & 2000.0 \\\\\n",
       "\t8 & coal & 1 & 44845.6 \\\\\n",
       "\t9 & coal & 1 & 9.85211e5 \\\\\n",
       "\t10 & coal & 1 & -0.0 \\\\\n",
       "\t11 & coal & 2 & 0.0 \\\\\n",
       "\t12 & coal & 2 & -0.0 \\\\\n",
       "\t13 & coal & 2 & 44845.6 \\\\\n",
       "\t14 & coal & 2 & 9.85211e5 \\\\\n",
       "\t15 & coal & 2 & 10000.0 \\\\\n",
       "\t16 & coal & 3 & 0.0 \\\\\n",
       "\t17 & coal & 3 & -0.0 \\\\\n",
       "\t18 & coal & 3 & 44845.6 \\\\\n",
       "\t19 & coal & 3 & 9.85211e5 \\\\\n",
       "\t20 & coal & 3 & 10000.0 \\\\\n",
       "\t21 & coal & 4 & 0.0 \\\\\n",
       "\t22 & coal & 4 & -0.0 \\\\\n",
       "\t23 & coal & 4 & 44845.6 \\\\\n",
       "\t24 & coal & 4 & 9.85211e5 \\\\\n",
       "\t$\\dots$ & $\\dots$ & $\\dots$ & $\\dots$ \\\\\n",
       "\\end{tabular}\n"
      ],
      "text/plain": [
       "\u001b[1m255×3 DataFrame\u001b[0m\n",
       "\u001b[1m Row \u001b[0m│\u001b[1m tech    \u001b[0m\u001b[1m year  \u001b[0m\u001b[1m MW            \u001b[0m\n",
       "     │\u001b[90m Symbol  \u001b[0m\u001b[90m Int64 \u001b[0m\u001b[90m Float64       \u001b[0m\n",
       "─────┼───────────────────────────────\n",
       "   1 │ coal         0   4000.0\n",
       "   2 │ coal         0   2000.0\n",
       "   3 │ coal         0    800.0\n",
       "   4 │ coal         0   1200.0\n",
       "   5 │ coal         0     -0.0\n",
       "   6 │ coal         1   4000.0\n",
       "   7 │ coal         1   2000.0\n",
       "   8 │ coal         1  44845.6\n",
       "  ⋮  │    ⋮       ⋮          ⋮\n",
       " 249 │ biomass     49      4.46759e5\n",
       " 250 │ biomass     49  10000.0\n",
       " 251 │ biomass     50      0.0\n",
       " 252 │ biomass     50      0.0\n",
       " 253 │ biomass     50  45692.0\n",
       " 254 │ biomass     50      4.46759e5\n",
       " 255 │ biomass     50  10000.0\n",
       "\u001b[36m                     240 rows omitted\u001b[0m"
      ]
     },
     "metadata": {},
     "output_type": "display_data"
    }
   ],
   "source": [
    "cap_df"
   ]
  },
  {
   "cell_type": "code",
   "execution_count": null,
   "id": "23b7c3e9",
   "metadata": {},
   "outputs": [],
   "source": []
  }
 ],
 "metadata": {
  "kernelspec": {
   "display_name": "Julia 1.11.6",
   "language": "julia",
   "name": "julia-1.11"
  },
  "language_info": {
   "file_extension": ".jl",
   "mimetype": "application/julia",
   "name": "julia",
   "version": "1.11.6"
  }
 },
 "nbformat": 4,
 "nbformat_minor": 5
}
