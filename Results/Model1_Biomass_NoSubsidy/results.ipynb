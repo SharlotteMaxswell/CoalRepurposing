{
 "cells": [
  {
   "cell_type": "markdown",
   "id": "23118edd",
   "metadata": {},
   "source": [
    "# Optimisation Model Results"
   ]
  },
  {
   "cell_type": "code",
   "execution_count": 24,
   "id": "45ca0406",
   "metadata": {},
   "outputs": [],
   "source": [
    "import pandas as pd\n",
    "import numpy as np\n",
    "import matplotlib.pyplot as plt"
   ]
  },
  {
   "cell_type": "code",
   "execution_count": 5,
   "id": "35bc1998",
   "metadata": {},
   "outputs": [],
   "source": [
    "# CSV Files -> dataframes\n",
    "results_build = pd.read_csv(\"results_build.csv\")\n",
    "results_capacity = pd.read_csv(\"results_capacity.csv\")\n",
    "results_conv_flows = pd.read_csv(\"results_conversion_flows.csv\")\n",
    "results_ann_gen = pd.read_csv(\"results_generation_annual.csv\")\n",
    "results_hour_gen = pd.read_csv(\"results_generation_hourly.csv\")\n",
    "results_retire = pd.read_csv(\"results_retire.csv\")\n",
    "results_unserved_hourly = pd.read_csv(\"results_unserved_hourly.csv\")"
   ]
  },
  {
   "cell_type": "code",
   "execution_count": null,
   "id": "d36a7dbe",
   "metadata": {},
   "outputs": [],
   "source": [
    "results_capacity"
   ]
  },
  {
   "cell_type": "code",
   "execution_count": null,
   "id": "5f31dbdc",
   "metadata": {},
   "outputs": [],
   "source": [
    "results_conv_flows"
   ]
  },
  {
   "cell_type": "code",
   "execution_count": 13,
   "id": "dd55ed20",
   "metadata": {},
   "outputs": [
    {
     "data": {
      "application/vnd.microsoft.datawrangler.viewer.v0+json": {
       "columns": [
        {
         "name": "index",
         "rawType": "int64",
         "type": "integer"
        },
        {
         "name": "tech",
         "rawType": "object",
         "type": "string"
        },
        {
         "name": "year",
         "rawType": "int64",
         "type": "integer"
        },
        {
         "name": "cap_MW",
         "rawType": "float64",
         "type": "float"
        },
        {
         "name": "Build MW",
         "rawType": "float64",
         "type": "float"
        },
        {
         "name": "Retire MW",
         "rawType": "float64",
         "type": "float"
        }
       ],
       "ref": "9769f443-111f-4bc2-8216-8a2fc2b94d11",
       "rows": [
        [
         "0",
         "coal",
         "0",
         "4000.0",
         "0.0",
         "0.0"
        ],
        [
         "1",
         "gas",
         "0",
         "2000.0",
         "0.0",
         "0.0"
        ],
        [
         "2",
         "solar",
         "0",
         "800.0",
         "2953.099087179193",
         "0.0"
        ],
        [
         "3",
         "wind",
         "0",
         "1200.0",
         "2064.710154746821",
         "0.0"
        ],
        [
         "4",
         "biomass",
         "0",
         "1000.0",
         "0.0",
         "0.0"
        ]
       ],
       "shape": {
        "columns": 5,
        "rows": 5
       }
      },
      "text/html": [
       "<div>\n",
       "<style scoped>\n",
       "    .dataframe tbody tr th:only-of-type {\n",
       "        vertical-align: middle;\n",
       "    }\n",
       "\n",
       "    .dataframe tbody tr th {\n",
       "        vertical-align: top;\n",
       "    }\n",
       "\n",
       "    .dataframe thead th {\n",
       "        text-align: right;\n",
       "    }\n",
       "</style>\n",
       "<table border=\"1\" class=\"dataframe\">\n",
       "  <thead>\n",
       "    <tr style=\"text-align: right;\">\n",
       "      <th></th>\n",
       "      <th>tech</th>\n",
       "      <th>year</th>\n",
       "      <th>cap_MW</th>\n",
       "      <th>Build MW</th>\n",
       "      <th>Retire MW</th>\n",
       "    </tr>\n",
       "  </thead>\n",
       "  <tbody>\n",
       "    <tr>\n",
       "      <th>0</th>\n",
       "      <td>coal</td>\n",
       "      <td>0</td>\n",
       "      <td>4000.0</td>\n",
       "      <td>0.000000</td>\n",
       "      <td>0.0</td>\n",
       "    </tr>\n",
       "    <tr>\n",
       "      <th>1</th>\n",
       "      <td>gas</td>\n",
       "      <td>0</td>\n",
       "      <td>2000.0</td>\n",
       "      <td>0.000000</td>\n",
       "      <td>0.0</td>\n",
       "    </tr>\n",
       "    <tr>\n",
       "      <th>2</th>\n",
       "      <td>solar</td>\n",
       "      <td>0</td>\n",
       "      <td>800.0</td>\n",
       "      <td>2953.099087</td>\n",
       "      <td>0.0</td>\n",
       "    </tr>\n",
       "    <tr>\n",
       "      <th>3</th>\n",
       "      <td>wind</td>\n",
       "      <td>0</td>\n",
       "      <td>1200.0</td>\n",
       "      <td>2064.710155</td>\n",
       "      <td>0.0</td>\n",
       "    </tr>\n",
       "    <tr>\n",
       "      <th>4</th>\n",
       "      <td>biomass</td>\n",
       "      <td>0</td>\n",
       "      <td>1000.0</td>\n",
       "      <td>0.000000</td>\n",
       "      <td>0.0</td>\n",
       "    </tr>\n",
       "  </tbody>\n",
       "</table>\n",
       "</div>"
      ],
      "text/plain": [
       "      tech  year  cap_MW     Build MW  Retire MW\n",
       "0     coal     0  4000.0     0.000000        0.0\n",
       "1      gas     0  2000.0     0.000000        0.0\n",
       "2    solar     0   800.0  2953.099087        0.0\n",
       "3     wind     0  1200.0  2064.710155        0.0\n",
       "4  biomass     0  1000.0     0.000000        0.0"
      ]
     },
     "execution_count": 13,
     "metadata": {},
     "output_type": "execute_result"
    }
   ],
   "source": [
    "results_df = results_capacity.copy()\n",
    "results_df[\"Build MW\"] = results_build[\"build_MW\"]\n",
    "results_df[\"Retire MW\"] = results_retire[\"retire_MW\"]\n",
    "results_df.head()"
   ]
  },
  {
   "cell_type": "code",
   "execution_count": 31,
   "id": "5cfdfbc2",
   "metadata": {},
   "outputs": [
    {
     "data": {
      "application/vnd.microsoft.datawrangler.viewer.v0+json": {
       "columns": [
        {
         "name": "year",
         "rawType": "int64",
         "type": "integer"
        },
        {
         "name": "conv_start_MW",
         "rawType": "float64",
         "type": "float"
        }
       ],
       "ref": "5cb3376f-32bf-4796-920b-8171b1dbbc92",
       "rows": [
        [
         "0",
         "0.0"
        ],
        [
         "1",
         "1515.020390906015"
        ],
        [
         "2",
         "0.0"
        ],
        [
         "3",
         "1072.8062663363812"
        ],
        [
         "4",
         "0.0"
        ],
        [
         "5",
         "538.4017233504283"
        ],
        [
         "6",
         "0.0"
        ],
        [
         "7",
         "0.0"
        ],
        [
         "8",
         "0.0"
        ],
        [
         "9",
         "0.0"
        ],
        [
         "10",
         "0.0"
        ],
        [
         "11",
         "0.0"
        ],
        [
         "12",
         "0.0"
        ],
        [
         "13",
         "0.0"
        ],
        [
         "14",
         "0.0"
        ],
        [
         "15",
         "0.0"
        ],
        [
         "16",
         "0.0"
        ],
        [
         "17",
         "0.0"
        ],
        [
         "18",
         "0.0"
        ],
        [
         "19",
         "0.0"
        ],
        [
         "20",
         "0.0"
        ],
        [
         "21",
         "0.0"
        ],
        [
         "22",
         "0.0"
        ],
        [
         "23",
         "0.0"
        ],
        [
         "24",
         "0.0"
        ],
        [
         "25",
         "0.0"
        ]
       ],
       "shape": {
        "columns": 1,
        "rows": 26
       }
      },
      "text/html": [
       "<div>\n",
       "<style scoped>\n",
       "    .dataframe tbody tr th:only-of-type {\n",
       "        vertical-align: middle;\n",
       "    }\n",
       "\n",
       "    .dataframe tbody tr th {\n",
       "        vertical-align: top;\n",
       "    }\n",
       "\n",
       "    .dataframe thead th {\n",
       "        text-align: right;\n",
       "    }\n",
       "</style>\n",
       "<table border=\"1\" class=\"dataframe\">\n",
       "  <thead>\n",
       "    <tr style=\"text-align: right;\">\n",
       "      <th></th>\n",
       "      <th>conv_start_MW</th>\n",
       "    </tr>\n",
       "    <tr>\n",
       "      <th>year</th>\n",
       "      <th></th>\n",
       "    </tr>\n",
       "  </thead>\n",
       "  <tbody>\n",
       "    <tr>\n",
       "      <th>0</th>\n",
       "      <td>0.000000</td>\n",
       "    </tr>\n",
       "    <tr>\n",
       "      <th>1</th>\n",
       "      <td>1515.020391</td>\n",
       "    </tr>\n",
       "    <tr>\n",
       "      <th>2</th>\n",
       "      <td>0.000000</td>\n",
       "    </tr>\n",
       "    <tr>\n",
       "      <th>3</th>\n",
       "      <td>1072.806266</td>\n",
       "    </tr>\n",
       "    <tr>\n",
       "      <th>4</th>\n",
       "      <td>0.000000</td>\n",
       "    </tr>\n",
       "    <tr>\n",
       "      <th>5</th>\n",
       "      <td>538.401723</td>\n",
       "    </tr>\n",
       "    <tr>\n",
       "      <th>6</th>\n",
       "      <td>0.000000</td>\n",
       "    </tr>\n",
       "    <tr>\n",
       "      <th>7</th>\n",
       "      <td>0.000000</td>\n",
       "    </tr>\n",
       "    <tr>\n",
       "      <th>8</th>\n",
       "      <td>0.000000</td>\n",
       "    </tr>\n",
       "    <tr>\n",
       "      <th>9</th>\n",
       "      <td>0.000000</td>\n",
       "    </tr>\n",
       "    <tr>\n",
       "      <th>10</th>\n",
       "      <td>0.000000</td>\n",
       "    </tr>\n",
       "    <tr>\n",
       "      <th>11</th>\n",
       "      <td>0.000000</td>\n",
       "    </tr>\n",
       "    <tr>\n",
       "      <th>12</th>\n",
       "      <td>0.000000</td>\n",
       "    </tr>\n",
       "    <tr>\n",
       "      <th>13</th>\n",
       "      <td>0.000000</td>\n",
       "    </tr>\n",
       "    <tr>\n",
       "      <th>14</th>\n",
       "      <td>0.000000</td>\n",
       "    </tr>\n",
       "    <tr>\n",
       "      <th>15</th>\n",
       "      <td>0.000000</td>\n",
       "    </tr>\n",
       "    <tr>\n",
       "      <th>16</th>\n",
       "      <td>0.000000</td>\n",
       "    </tr>\n",
       "    <tr>\n",
       "      <th>17</th>\n",
       "      <td>0.000000</td>\n",
       "    </tr>\n",
       "    <tr>\n",
       "      <th>18</th>\n",
       "      <td>0.000000</td>\n",
       "    </tr>\n",
       "    <tr>\n",
       "      <th>19</th>\n",
       "      <td>0.000000</td>\n",
       "    </tr>\n",
       "    <tr>\n",
       "      <th>20</th>\n",
       "      <td>0.000000</td>\n",
       "    </tr>\n",
       "    <tr>\n",
       "      <th>21</th>\n",
       "      <td>0.000000</td>\n",
       "    </tr>\n",
       "    <tr>\n",
       "      <th>22</th>\n",
       "      <td>0.000000</td>\n",
       "    </tr>\n",
       "    <tr>\n",
       "      <th>23</th>\n",
       "      <td>0.000000</td>\n",
       "    </tr>\n",
       "    <tr>\n",
       "      <th>24</th>\n",
       "      <td>0.000000</td>\n",
       "    </tr>\n",
       "    <tr>\n",
       "      <th>25</th>\n",
       "      <td>0.000000</td>\n",
       "    </tr>\n",
       "  </tbody>\n",
       "</table>\n",
       "</div>"
      ],
      "text/plain": [
       "      conv_start_MW\n",
       "year               \n",
       "0          0.000000\n",
       "1       1515.020391\n",
       "2          0.000000\n",
       "3       1072.806266\n",
       "4          0.000000\n",
       "5        538.401723\n",
       "6          0.000000\n",
       "7          0.000000\n",
       "8          0.000000\n",
       "9          0.000000\n",
       "10         0.000000\n",
       "11         0.000000\n",
       "12         0.000000\n",
       "13         0.000000\n",
       "14         0.000000\n",
       "15         0.000000\n",
       "16         0.000000\n",
       "17         0.000000\n",
       "18         0.000000\n",
       "19         0.000000\n",
       "20         0.000000\n",
       "21         0.000000\n",
       "22         0.000000\n",
       "23         0.000000\n",
       "24         0.000000\n",
       "25         0.000000"
      ]
     },
     "execution_count": 31,
     "metadata": {},
     "output_type": "execute_result"
    }
   ],
   "source": [
    "results_piv = results_df.groupby(\"year\").sum(\"cap_MW\")\n",
    "conv_piv = results_conv_flows.groupby(\"year\").sum(\"conv_start_MW\")\n",
    "conv_piv "
   ]
  },
  {
   "cell_type": "code",
   "execution_count": 34,
   "id": "92a34152",
   "metadata": {},
   "outputs": [
    {
     "data": {
      "image/png": "[encoded data removed]",
      "text/plain": [
       "<Figure size 1000x600 with 1 Axes>"
      ]
     },
     "metadata": {},
     "output_type": "display_data"
    }
   ],
   "source": [
    "plt.figure(figsize=(10,6))\n",
    "plt.plot(results_piv.index, results_piv[\"cap_MW\"], marker = \"o\", label= \"Capacity (MW)\")\n",
    "plt.plot(results_piv.index, results_piv[\"Build MW\"], marker = \"s\", label = \"Build (MW)\")\n",
    "plt.plot(results_piv.index, results_piv[\"Retire MW\"], marker=\"^\", label = \"Retire (MW)\")\n",
    "plt.plot(conv_piv.index, conv_piv[\"conv_start_MW\"], marker=\"<\", label = \"Converted (MW)\")\n",
    "\n",
    "plt.xlabel(\"Year\")\n",
    "plt.ylabel(\"MW\")\n",
    "plt.title(\"System Capacity Evolution (30% Renewables)\")\n",
    "plt.legend()\n",
    "plt.grid(True)\n",
    "plt.show()"
   ]
  },
  {
   "cell_type": "code",
   "execution_count": null,
   "id": "412c2147",
   "metadata": {},
   "outputs": [],
   "source": []
  }
 ],
 "metadata": {
  "kernelspec": {
   "display_name": ".venv",
   "language": "python",
   "name": "python3"
  },
  "language_info": {
   "codemirror_mode": {
    "name": "ipython",
    "version": 3
   },
   "file_extension": ".py",
   "mimetype": "text/x-python",
   "name": "python",
   "nbconvert_exporter": "python",
   "pygments_lexer": "ipython3",
   "version": "3.13.2"
  }
 },
 "nbformat": 4,
 "nbformat_minor": 5
}
