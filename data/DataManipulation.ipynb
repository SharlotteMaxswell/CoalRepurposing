{
 "cells": [
  {
   "cell_type": "markdown",
   "id": "359e8fda",
   "metadata": {},
   "source": [
    "# Creating Demand Data"
   ]
  },
  {
   "cell_type": "code",
   "execution_count": 2,
   "id": "84b52d2d",
   "metadata": {},
   "outputs": [],
   "source": [
    "import pandas as pd\n",
    "import numpy as np"
   ]
  },
  {
   "cell_type": "code",
   "execution_count": 3,
   "id": "bd68cabf",
   "metadata": {},
   "outputs": [
    {
     "data": {
      "application/vnd.microsoft.datawrangler.viewer.v0+json": {
       "columns": [
        {
         "name": "index",
         "rawType": "int64",
         "type": "integer"
        },
        {
         "name": "Hour",
         "rawType": "int64",
         "type": "integer"
        },
        {
         "name": "Demand",
         "rawType": "int64",
         "type": "integer"
        },
        {
         "name": "Year",
         "rawType": "int64",
         "type": "integer"
        }
       ],
       "ref": "a4fdb51f-1c37-4ca0-b14f-7df9a733d414",
       "rows": [
        [
         "0",
         "1",
         "2274",
         "1"
        ],
        [
         "1",
         "2",
         "2581",
         "1"
        ],
        [
         "2",
         "3",
         "2576",
         "1"
        ],
        [
         "3",
         "4",
         "2482",
         "1"
        ],
        [
         "4",
         "5",
         "2396",
         "1"
        ]
       ],
       "shape": {
        "columns": 3,
        "rows": 5
       }
      },
      "text/html": [
       "<div>\n",
       "<style scoped>\n",
       "    .dataframe tbody tr th:only-of-type {\n",
       "        vertical-align: middle;\n",
       "    }\n",
       "\n",
       "    .dataframe tbody tr th {\n",
       "        vertical-align: top;\n",
       "    }\n",
       "\n",
       "    .dataframe thead th {\n",
       "        text-align: right;\n",
       "    }\n",
       "</style>\n",
       "<table border=\"1\" class=\"dataframe\">\n",
       "  <thead>\n",
       "    <tr style=\"text-align: right;\">\n",
       "      <th></th>\n",
       "      <th>Hour</th>\n",
       "      <th>Demand</th>\n",
       "      <th>Year</th>\n",
       "    </tr>\n",
       "  </thead>\n",
       "  <tbody>\n",
       "    <tr>\n",
       "      <th>0</th>\n",
       "      <td>1</td>\n",
       "      <td>2274</td>\n",
       "      <td>1</td>\n",
       "    </tr>\n",
       "    <tr>\n",
       "      <th>1</th>\n",
       "      <td>2</td>\n",
       "      <td>2581</td>\n",
       "      <td>1</td>\n",
       "    </tr>\n",
       "    <tr>\n",
       "      <th>2</th>\n",
       "      <td>3</td>\n",
       "      <td>2576</td>\n",
       "      <td>1</td>\n",
       "    </tr>\n",
       "    <tr>\n",
       "      <th>3</th>\n",
       "      <td>4</td>\n",
       "      <td>2482</td>\n",
       "      <td>1</td>\n",
       "    </tr>\n",
       "    <tr>\n",
       "      <th>4</th>\n",
       "      <td>5</td>\n",
       "      <td>2396</td>\n",
       "      <td>1</td>\n",
       "    </tr>\n",
       "  </tbody>\n",
       "</table>\n",
       "</div>"
      ],
      "text/plain": [
       "   Hour  Demand  Year\n",
       "0     1    2274     1\n",
       "1     2    2581     1\n",
       "2     3    2576     1\n",
       "3     4    2482     1\n",
       "4     5    2396     1"
      ]
     },
     "execution_count": 3,
     "metadata": {},
     "output_type": "execute_result"
    }
   ],
   "source": [
    "DemandData = pd.read_csv(\"demand_for_expansion.csv\")\n",
    "DemandData[\"Year\"] = 1\n",
    "DemandData.head()"
   ]
  },
  {
   "cell_type": "code",
   "execution_count": 4,
   "id": "f5a32925",
   "metadata": {},
   "outputs": [
    {
     "name": "stdout",
     "output_type": "stream",
     "text": [
      "Yearly Demand:  22567897 MWh\n"
     ]
    }
   ],
   "source": [
    "print(\"Yearly Demand: \" , str(DemandData[\"Demand\"].sum()), \"MWh\") "
   ]
  },
  {
   "cell_type": "markdown",
   "id": "76c8b5eb",
   "metadata": {},
   "source": [
    "To simulate demand data to 2050 we will use the assumption that since demand is expected to double from ~22500000 to ~45000000 MWh we can calculate the annual growth rate over 25 years to be about 2.81%"
   ]
  },
  {
   "cell_type": "code",
   "execution_count": 5,
   "id": "516da7d9",
   "metadata": {},
   "outputs": [],
   "source": [
    "years = 25\n",
    "growth = 2**(1/years)\n",
    "growth\n",
    "\n",
    "DemandDataExpanded = []\n",
    "\n",
    "for y in range(0,years+1):\n",
    "    scale = growth**(y)\n",
    "    df_tmp = DemandData.copy()\n",
    "    df_tmp[\"Demand\"] = df_tmp[\"Demand\"] * scale\n",
    "    df_tmp[\"Year\"] = y\n",
    "    DemandDataExpanded.append(df_tmp)\n",
    "\n",
    "DemandDataExpanded = pd.concat(DemandDataExpanded, ignore_index=True)\n",
    "DemandDataExpanded.to_csv(\"demand_25yrs_forecast.csv\", index=False)\n"
   ]
  },
  {
   "cell_type": "code",
   "execution_count": 6,
   "id": "d9d68afc",
   "metadata": {},
   "outputs": [
    {
     "data": {
      "application/vnd.microsoft.datawrangler.viewer.v0+json": {
       "columns": [
        {
         "name": "index",
         "rawType": "int64",
         "type": "integer"
        },
        {
         "name": "Hour",
         "rawType": "int64",
         "type": "integer"
        },
        {
         "name": "Demand",
         "rawType": "float64",
         "type": "float"
        },
        {
         "name": "Year",
         "rawType": "int64",
         "type": "integer"
        }
       ],
       "ref": "1b992702-b8ab-4c70-9e75-157244731204",
       "rows": [
        [
         "0",
         "1",
         "2274.0",
         "0"
        ],
        [
         "1",
         "2",
         "2581.0",
         "0"
        ],
        [
         "2",
         "3",
         "2576.0",
         "0"
        ],
        [
         "3",
         "4",
         "2482.0",
         "0"
        ],
        [
         "4",
         "5",
         "2396.0",
         "0"
        ],
        [
         "5",
         "6",
         "2193.0",
         "0"
        ],
        [
         "6",
         "7",
         "1929.0",
         "0"
        ],
        [
         "7",
         "8",
         "1715.0",
         "0"
        ],
        [
         "8",
         "9",
         "1555.0",
         "0"
        ],
        [
         "9",
         "10",
         "1473.0",
         "0"
        ],
        [
         "10",
         "11",
         "1463.0",
         "0"
        ],
        [
         "11",
         "12",
         "1503.0",
         "0"
        ],
        [
         "12",
         "13",
         "1642.0",
         "0"
        ],
        [
         "13",
         "14",
         "1850.0",
         "0"
        ],
        [
         "14",
         "15",
         "2051.0",
         "0"
        ],
        [
         "15",
         "16",
         "2129.0",
         "0"
        ],
        [
         "16",
         "17",
         "2205.0",
         "0"
        ],
        [
         "17",
         "18",
         "2284.0",
         "0"
        ],
        [
         "18",
         "19",
         "2313.0",
         "0"
        ],
        [
         "19",
         "20",
         "2412.0",
         "0"
        ],
        [
         "20",
         "21",
         "2388.0",
         "0"
        ],
        [
         "21",
         "22",
         "2310.0",
         "0"
        ],
        [
         "22",
         "23",
         "2254.0",
         "0"
        ],
        [
         "23",
         "24",
         "2202.0",
         "0"
        ],
        [
         "24",
         "25",
         "2202.0",
         "0"
        ],
        [
         "25",
         "26",
         "2437.0",
         "0"
        ],
        [
         "26",
         "27",
         "2453.0",
         "0"
        ],
        [
         "27",
         "28",
         "2409.0",
         "0"
        ],
        [
         "28",
         "29",
         "2349.0",
         "0"
        ],
        [
         "29",
         "30",
         "2176.0",
         "0"
        ],
        [
         "30",
         "31",
         "1884.0",
         "0"
        ],
        [
         "31",
         "32",
         "1617.0",
         "0"
        ],
        [
         "32",
         "33",
         "1451.0",
         "0"
        ],
        [
         "33",
         "34",
         "1377.0",
         "0"
        ],
        [
         "34",
         "35",
         "1410.0",
         "0"
        ],
        [
         "35",
         "36",
         "1488.0",
         "0"
        ],
        [
         "36",
         "37",
         "1669.0",
         "0"
        ],
        [
         "37",
         "38",
         "1931.0",
         "0"
        ],
        [
         "38",
         "39",
         "2182.0",
         "0"
        ],
        [
         "39",
         "40",
         "2302.0",
         "0"
        ],
        [
         "40",
         "41",
         "2421.0",
         "0"
        ],
        [
         "41",
         "42",
         "2535.0",
         "0"
        ],
        [
         "42",
         "43",
         "2588.0",
         "0"
        ],
        [
         "43",
         "44",
         "2684.0",
         "0"
        ],
        [
         "44",
         "45",
         "2654.0",
         "0"
        ],
        [
         "45",
         "46",
         "2567.0",
         "0"
        ],
        [
         "46",
         "47",
         "2506.0",
         "0"
        ],
        [
         "47",
         "48",
         "2437.0",
         "0"
        ],
        [
         "48",
         "49",
         "2416.0",
         "0"
        ],
        [
         "49",
         "50",
         "2592.0",
         "0"
        ]
       ],
       "shape": {
        "columns": 3,
        "rows": 227760
       }
      },
      "text/html": [
       "<div>\n",
       "<style scoped>\n",
       "    .dataframe tbody tr th:only-of-type {\n",
       "        vertical-align: middle;\n",
       "    }\n",
       "\n",
       "    .dataframe tbody tr th {\n",
       "        vertical-align: top;\n",
       "    }\n",
       "\n",
       "    .dataframe thead th {\n",
       "        text-align: right;\n",
       "    }\n",
       "</style>\n",
       "<table border=\"1\" class=\"dataframe\">\n",
       "  <thead>\n",
       "    <tr style=\"text-align: right;\">\n",
       "      <th></th>\n",
       "      <th>Hour</th>\n",
       "      <th>Demand</th>\n",
       "      <th>Year</th>\n",
       "    </tr>\n",
       "  </thead>\n",
       "  <tbody>\n",
       "    <tr>\n",
       "      <th>0</th>\n",
       "      <td>1</td>\n",
       "      <td>2274.0</td>\n",
       "      <td>0</td>\n",
       "    </tr>\n",
       "    <tr>\n",
       "      <th>1</th>\n",
       "      <td>2</td>\n",
       "      <td>2581.0</td>\n",
       "      <td>0</td>\n",
       "    </tr>\n",
       "    <tr>\n",
       "      <th>2</th>\n",
       "      <td>3</td>\n",
       "      <td>2576.0</td>\n",
       "      <td>0</td>\n",
       "    </tr>\n",
       "    <tr>\n",
       "      <th>3</th>\n",
       "      <td>4</td>\n",
       "      <td>2482.0</td>\n",
       "      <td>0</td>\n",
       "    </tr>\n",
       "    <tr>\n",
       "      <th>4</th>\n",
       "      <td>5</td>\n",
       "      <td>2396.0</td>\n",
       "      <td>0</td>\n",
       "    </tr>\n",
       "    <tr>\n",
       "      <th>...</th>\n",
       "      <td>...</td>\n",
       "      <td>...</td>\n",
       "      <td>...</td>\n",
       "    </tr>\n",
       "    <tr>\n",
       "      <th>227755</th>\n",
       "      <td>8756</td>\n",
       "      <td>5416.0</td>\n",
       "      <td>25</td>\n",
       "    </tr>\n",
       "    <tr>\n",
       "      <th>227756</th>\n",
       "      <td>8757</td>\n",
       "      <td>5292.0</td>\n",
       "      <td>25</td>\n",
       "    </tr>\n",
       "    <tr>\n",
       "      <th>227757</th>\n",
       "      <td>8758</td>\n",
       "      <td>5076.0</td>\n",
       "      <td>25</td>\n",
       "    </tr>\n",
       "    <tr>\n",
       "      <th>227758</th>\n",
       "      <td>8759</td>\n",
       "      <td>4390.0</td>\n",
       "      <td>25</td>\n",
       "    </tr>\n",
       "    <tr>\n",
       "      <th>227759</th>\n",
       "      <td>8760</td>\n",
       "      <td>4400.0</td>\n",
       "      <td>25</td>\n",
       "    </tr>\n",
       "  </tbody>\n",
       "</table>\n",
       "<p>227760 rows × 3 columns</p>\n",
       "</div>"
      ],
      "text/plain": [
       "        Hour  Demand  Year\n",
       "0          1  2274.0     0\n",
       "1          2  2581.0     0\n",
       "2          3  2576.0     0\n",
       "3          4  2482.0     0\n",
       "4          5  2396.0     0\n",
       "...      ...     ...   ...\n",
       "227755  8756  5416.0    25\n",
       "227756  8757  5292.0    25\n",
       "227757  8758  5076.0    25\n",
       "227758  8759  4390.0    25\n",
       "227759  8760  4400.0    25\n",
       "\n",
       "[227760 rows x 3 columns]"
      ]
     },
     "execution_count": 6,
     "metadata": {},
     "output_type": "execute_result"
    }
   ],
   "source": [
    "DemandDataExpanded"
   ]
  },
  {
   "cell_type": "markdown",
   "id": "a3c93a56",
   "metadata": {},
   "source": [
    "# Creating CF data"
   ]
  },
  {
   "cell_type": "code",
   "execution_count": 7,
   "id": "fd3d5453",
   "metadata": {},
   "outputs": [
    {
     "data": {
      "application/vnd.microsoft.datawrangler.viewer.v0+json": {
       "columns": [
        {
         "name": "index",
         "rawType": "int64",
         "type": "integer"
        },
        {
         "name": "Hour",
         "rawType": "int64",
         "type": "integer"
        },
        {
         "name": "Wind",
         "rawType": "float64",
         "type": "float"
        },
        {
         "name": "Solar",
         "rawType": "float64",
         "type": "float"
        },
        {
         "name": "Coal",
         "rawType": "int64",
         "type": "integer"
        },
        {
         "name": "Gas",
         "rawType": "int64",
         "type": "integer"
        },
        {
         "name": "Biomass",
         "rawType": "int64",
         "type": "integer"
        }
       ],
       "ref": "59560cfe-ddce-4024-9075-ead608a3e073",
       "rows": [
        [
         "0",
         "1",
         "0.02964424",
         "0.440206319",
         "1",
         "1",
         "1"
        ],
        [
         "1",
         "2",
         "0.053404614",
         "0.0",
         "1",
         "1",
         "1"
        ],
        [
         "2",
         "3",
         "0.045622487",
         "0.0",
         "1",
         "1",
         "1"
        ],
        [
         "3",
         "4",
         "0.09080191",
         "0.0",
         "1",
         "1",
         "1"
        ],
        [
         "4",
         "5",
         "0.177523956",
         "0.0",
         "1",
         "1",
         "1"
        ],
        [
         "5",
         "6",
         "0.196106315",
         "0.0",
         "1",
         "1",
         "1"
        ],
        [
         "6",
         "7",
         "0.163480639",
         "0.0",
         "1",
         "1",
         "1"
        ],
        [
         "7",
         "8",
         "0.12931183",
         "0.0",
         "1",
         "1",
         "1"
        ],
        [
         "8",
         "9",
         "0.131447554",
         "0.0",
         "1",
         "1",
         "1"
        ],
        [
         "9",
         "10",
         "0.162791938",
         "0.0",
         "1",
         "1",
         "1"
        ],
        [
         "10",
         "11",
         "0.1695849",
         "0.0",
         "1",
         "1",
         "1"
        ],
        [
         "11",
         "12",
         "0.115781084",
         "0.0",
         "1",
         "1",
         "1"
        ],
        [
         "12",
         "13",
         "0.063578397",
         "0.0",
         "1",
         "1",
         "1"
        ],
        [
         "13",
         "14",
         "0.073658198",
         "0.0",
         "1",
         "1",
         "1"
        ],
        [
         "14",
         "15",
         "0.191722095",
         "0.0",
         "1",
         "1",
         "1"
        ],
        [
         "15",
         "16",
         "0.141564459",
         "0.160354823",
         "1",
         "1",
         "1"
        ],
        [
         "16",
         "17",
         "0.172937483",
         "0.530314207",
         "1",
         "1",
         "1"
        ],
        [
         "17",
         "18",
         "0.100785479",
         "0.737064183",
         "1",
         "1",
         "1"
        ],
        [
         "18",
         "19",
         "0.041374963",
         "0.841204882",
         "1",
         "1",
         "1"
        ],
        [
         "19",
         "20",
         "0.060162984",
         "0.897431374",
         "1",
         "1",
         "1"
        ],
        [
         "20",
         "21",
         "0.139278054",
         "0.916456223",
         "1",
         "1",
         "1"
        ],
        [
         "21",
         "22",
         "0.159188926",
         "0.8962937",
         "1",
         "1",
         "1"
        ],
        [
         "22",
         "23",
         "0.143300146",
         "0.850939989",
         "1",
         "1",
         "1"
        ],
        [
         "23",
         "24",
         "0.263135701",
         "0.69840014",
         "1",
         "1",
         "1"
        ],
        [
         "24",
         "25",
         "0.167211637",
         "0.450361133",
         "1",
         "1",
         "1"
        ],
        [
         "25",
         "26",
         "0.04041839",
         "0.0",
         "1",
         "1",
         "1"
        ],
        [
         "26",
         "27",
         "0.016701991",
         "0.0",
         "1",
         "1",
         "1"
        ],
        [
         "27",
         "28",
         "0.152068675",
         "0.0",
         "1",
         "1",
         "1"
        ],
        [
         "28",
         "29",
         "0.226495713",
         "0.0",
         "1",
         "1",
         "1"
        ],
        [
         "29",
         "30",
         "0.270795286",
         "0.0",
         "1",
         "1",
         "1"
        ],
        [
         "30",
         "31",
         "0.298206151",
         "0.0",
         "1",
         "1",
         "1"
        ],
        [
         "31",
         "32",
         "0.271383047",
         "0.0",
         "1",
         "1",
         "1"
        ],
        [
         "32",
         "33",
         "0.194461107",
         "0.0",
         "1",
         "1",
         "1"
        ],
        [
         "33",
         "34",
         "0.327295542",
         "0.0",
         "1",
         "1",
         "1"
        ],
        [
         "34",
         "35",
         "0.274773479",
         "0.0",
         "1",
         "1",
         "1"
        ],
        [
         "35",
         "36",
         "0.121430814",
         "0.0",
         "1",
         "1",
         "1"
        ],
        [
         "36",
         "37",
         "0.050794065",
         "0.0",
         "1",
         "1",
         "1"
        ],
        [
         "37",
         "38",
         "0.108404294",
         "0.0",
         "1",
         "1",
         "1"
        ],
        [
         "38",
         "39",
         "0.102256775",
         "0.0",
         "1",
         "1",
         "1"
        ],
        [
         "39",
         "40",
         "0.1861431",
         "0.186126664",
         "1",
         "1",
         "1"
        ],
        [
         "40",
         "41",
         "0.182236999",
         "0.562906146",
         "1",
         "1",
         "1"
        ],
        [
         "41",
         "42",
         "0.200160995",
         "0.759664118",
         "1",
         "1",
         "1"
        ],
        [
         "42",
         "43",
         "0.068109088",
         "0.873494685",
         "1",
         "1",
         "1"
        ],
        [
         "43",
         "44",
         "0.131628543",
         "0.942172468",
         "1",
         "1",
         "1"
        ],
        [
         "44",
         "45",
         "0.148289382",
         "0.968051136",
         "1",
         "1",
         "1"
        ],
        [
         "45",
         "46",
         "0.182094038",
         "0.979680836",
         "1",
         "1",
         "1"
        ],
        [
         "46",
         "47",
         "0.09641251",
         "0.861716151",
         "1",
         "1",
         "1"
        ],
        [
         "47",
         "48",
         "0.076374777",
         "0.702745676",
         "1",
         "1",
         "1"
        ],
        [
         "48",
         "49",
         "0.145699397",
         "0.440961123",
         "1",
         "1",
         "1"
        ],
        [
         "49",
         "50",
         "0.112703539",
         "0.0",
         "1",
         "1",
         "1"
        ]
       ],
       "shape": {
        "columns": 6,
        "rows": 8760
       }
      },
      "text/html": [
       "<div>\n",
       "<style scoped>\n",
       "    .dataframe tbody tr th:only-of-type {\n",
       "        vertical-align: middle;\n",
       "    }\n",
       "\n",
       "    .dataframe tbody tr th {\n",
       "        vertical-align: top;\n",
       "    }\n",
       "\n",
       "    .dataframe thead th {\n",
       "        text-align: right;\n",
       "    }\n",
       "</style>\n",
       "<table border=\"1\" class=\"dataframe\">\n",
       "  <thead>\n",
       "    <tr style=\"text-align: right;\">\n",
       "      <th></th>\n",
       "      <th>Hour</th>\n",
       "      <th>Wind</th>\n",
       "      <th>Solar</th>\n",
       "      <th>Coal</th>\n",
       "      <th>Gas</th>\n",
       "      <th>Biomass</th>\n",
       "    </tr>\n",
       "  </thead>\n",
       "  <tbody>\n",
       "    <tr>\n",
       "      <th>0</th>\n",
       "      <td>1</td>\n",
       "      <td>0.029644</td>\n",
       "      <td>0.440206</td>\n",
       "      <td>1</td>\n",
       "      <td>1</td>\n",
       "      <td>1</td>\n",
       "    </tr>\n",
       "    <tr>\n",
       "      <th>1</th>\n",
       "      <td>2</td>\n",
       "      <td>0.053405</td>\n",
       "      <td>0.000000</td>\n",
       "      <td>1</td>\n",
       "      <td>1</td>\n",
       "      <td>1</td>\n",
       "    </tr>\n",
       "    <tr>\n",
       "      <th>2</th>\n",
       "      <td>3</td>\n",
       "      <td>0.045622</td>\n",
       "      <td>0.000000</td>\n",
       "      <td>1</td>\n",
       "      <td>1</td>\n",
       "      <td>1</td>\n",
       "    </tr>\n",
       "    <tr>\n",
       "      <th>3</th>\n",
       "      <td>4</td>\n",
       "      <td>0.090802</td>\n",
       "      <td>0.000000</td>\n",
       "      <td>1</td>\n",
       "      <td>1</td>\n",
       "      <td>1</td>\n",
       "    </tr>\n",
       "    <tr>\n",
       "      <th>4</th>\n",
       "      <td>5</td>\n",
       "      <td>0.177524</td>\n",
       "      <td>0.000000</td>\n",
       "      <td>1</td>\n",
       "      <td>1</td>\n",
       "      <td>1</td>\n",
       "    </tr>\n",
       "    <tr>\n",
       "      <th>...</th>\n",
       "      <td>...</td>\n",
       "      <td>...</td>\n",
       "      <td>...</td>\n",
       "      <td>...</td>\n",
       "      <td>...</td>\n",
       "      <td>...</td>\n",
       "    </tr>\n",
       "    <tr>\n",
       "      <th>8755</th>\n",
       "      <td>8756</td>\n",
       "      <td>0.037738</td>\n",
       "      <td>0.943190</td>\n",
       "      <td>1</td>\n",
       "      <td>1</td>\n",
       "      <td>1</td>\n",
       "    </tr>\n",
       "    <tr>\n",
       "      <th>8756</th>\n",
       "      <td>8757</td>\n",
       "      <td>0.055223</td>\n",
       "      <td>0.962000</td>\n",
       "      <td>1</td>\n",
       "      <td>1</td>\n",
       "      <td>1</td>\n",
       "    </tr>\n",
       "    <tr>\n",
       "      <th>8757</th>\n",
       "      <td>8758</td>\n",
       "      <td>0.008199</td>\n",
       "      <td>0.948126</td>\n",
       "      <td>1</td>\n",
       "      <td>1</td>\n",
       "      <td>1</td>\n",
       "    </tr>\n",
       "    <tr>\n",
       "      <th>8758</th>\n",
       "      <td>8759</td>\n",
       "      <td>0.000662</td>\n",
       "      <td>0.852887</td>\n",
       "      <td>1</td>\n",
       "      <td>1</td>\n",
       "      <td>1</td>\n",
       "    </tr>\n",
       "    <tr>\n",
       "      <th>8759</th>\n",
       "      <td>8760</td>\n",
       "      <td>0.002552</td>\n",
       "      <td>0.687016</td>\n",
       "      <td>1</td>\n",
       "      <td>1</td>\n",
       "      <td>1</td>\n",
       "    </tr>\n",
       "  </tbody>\n",
       "</table>\n",
       "<p>8760 rows × 6 columns</p>\n",
       "</div>"
      ],
      "text/plain": [
       "      Hour      Wind     Solar  Coal  Gas  Biomass\n",
       "0        1  0.029644  0.440206     1    1        1\n",
       "1        2  0.053405  0.000000     1    1        1\n",
       "2        3  0.045622  0.000000     1    1        1\n",
       "3        4  0.090802  0.000000     1    1        1\n",
       "4        5  0.177524  0.000000     1    1        1\n",
       "...    ...       ...       ...   ...  ...      ...\n",
       "8755  8756  0.037738  0.943190     1    1        1\n",
       "8756  8757  0.055223  0.962000     1    1        1\n",
       "8757  8758  0.008199  0.948126     1    1        1\n",
       "8758  8759  0.000662  0.852887     1    1        1\n",
       "8759  8760  0.002552  0.687016     1    1        1\n",
       "\n",
       "[8760 rows x 6 columns]"
      ]
     },
     "execution_count": 7,
     "metadata": {},
     "output_type": "execute_result"
    }
   ],
   "source": [
    "CFData = pd.read_csv(\"wind_solar_for_expansion.csv\")\n",
    "CFData['Coal'] = 1\n",
    "CFData['Gas'] = 1\n",
    "CFData['Biomass'] = 1\n",
    "CFData"
   ]
  },
  {
   "cell_type": "code",
   "execution_count": 27,
   "id": "fcff313e",
   "metadata": {},
   "outputs": [],
   "source": [
    "CFData.to_csv(\"CFData_Expanded.csv\", index=False)"
   ]
  },
  {
   "cell_type": "code",
   "execution_count": null,
   "id": "c5e1b0dd",
   "metadata": {},
   "outputs": [],
   "source": []
  }
 ],
 "metadata": {
  "kernelspec": {
   "display_name": ".venv",
   "language": "python",
   "name": "python3"
  },
  "language_info": {
   "codemirror_mode": {
    "name": "ipython",
    "version": 3
   },
   "file_extension": ".py",
   "mimetype": "text/x-python",
   "name": "python",
   "nbconvert_exporter": "python",
   "pygments_lexer": "ipython3",
   "version": "3.13.2"
  }
 },
 "nbformat": 4,
 "nbformat_minor": 5
}
